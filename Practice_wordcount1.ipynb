{
 "cells": [
  {
   "cell_type": "code",
   "execution_count": 1,
   "metadata": {},
   "outputs": [
    {
     "name": "stdout",
     "output_type": "stream",
     "text": [
      "[('said', 642), ('mr', 602), ('one', 411), ('“i', 402), ('lorry', 313), ('upon', 287), ('will', 276), ('little', 263), ('defarge', 259), ('man', 258)]\n"
     ]
    }
   ],
   "source": [
    "import collections\n",
    "\n",
    "file = open('98-0.txt')\n",
    "\n",
    "stopwords = set(line.strip() for line in open('stopwords'))\n",
    "\n",
    "wordcount = {}\n",
    "\n",
    "for word in file.read().lower().split():\n",
    "    word = word.replace(\".\",\"\")\n",
    "    word = word.replace(\",\",\"\")\n",
    "    word = word.replace(\"\\\"\",\"\")\n",
    "    word = word.replace(\"\",\"\")\n",
    "    if word not in stopwords:  \n",
    "        if word not in wordcount:\n",
    "            wordcount[word] = 1\n",
    "        else:\n",
    "            wordcount[word] += 1\n",
    "        \n",
    "d = collections.Counter(wordcount)\n",
    "\n",
    "print (d.most_common(10))\n",
    "\n",
    "#print (wordcount)"
   ]
  },
  {
   "cell_type": "code",
   "execution_count": 5,
   "metadata": {},
   "outputs": [
    {
     "name": "stdout",
     "output_type": "stream",
     "text": [
      "hello world!\n"
     ]
    }
   ],
   "source": [
    "print ('hello world!')"
   ]
  },
  {
   "cell_type": "code",
   "execution_count": 4,
   "metadata": {},
   "outputs": [
    {
     "name": "stdout",
     "output_type": "stream",
     "text": [
      "new line\n"
     ]
    }
   ],
   "source": [
    "print (\"new line\")"
   ]
  },
  {
   "cell_type": "markdown",
   "metadata": {},
   "source": [
    "# heading 1\n",
    "## heading 2\n",
    "This cell is markdown. Its used for commenting/documenting!\n",
    "* point 1\n",
    "* point 2\n",
    "* point 3\n",
    "\n",
    "**bold font**\n",
    "\n",
    "*italic font*\n",
    "\n"
   ]
  },
  {
   "cell_type": "code",
   "execution_count": null,
   "metadata": {},
   "outputs": [],
   "source": []
  }
 ],
 "metadata": {
  "kernelspec": {
   "display_name": "Python 3",
   "language": "python",
   "name": "python3"
  },
  "language_info": {
   "codemirror_mode": {
    "name": "ipython",
    "version": 3
   },
   "file_extension": ".py",
   "mimetype": "text/x-python",
   "name": "python",
   "nbconvert_exporter": "python",
   "pygments_lexer": "ipython3",
   "version": "3.7.3"
  }
 },
 "nbformat": 4,
 "nbformat_minor": 2
}
